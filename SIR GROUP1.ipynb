{
 "cells": [
  {
   "cell_type": "markdown",
   "metadata": {},
   "source": [
    "# Welcome to Jupyter!"
   ]
  },
  {
   "cell_type": "markdown",
   "metadata": {},
   "source": [
    "Modèle SIR"
   ]
  },
  {
   "cell_type": "code",
   "execution_count": 1,
   "metadata": {},
   "outputs": [],
   "source": [
    "import numpy as np\n",
    "from scipy.integrate import odeint\n",
    "import matplotlib.pyplot as plt\n",
    "import scipy        # donne acces aux librairies scipy, scipy.linalg et scipy.integrate\n",
    "import scipy.integrate\n",
    "from scipy.optimize import fsolve"
   ]
  },
  {
   "cell_type": "markdown",
   "metadata": {},
   "source": [
    "\\begin{cases}\n",
    "\\displaystyle\n",
    "\\frac{dS(t)}{dt} &=& -\\beta S(t)I(t)&(1.1)\\\\\n",
    "\\displaystyle\n",
    "\\frac{dI(t)}{dt} &=& \\beta S(t)I(t)-\\gamma I(t)&(1.2)\\\\\n",
    "\\displaystyle\n",
    "\\frac{dR(t)}{dt} &=& \\gamma I(t)&(1.3)\n",
    "\\end{cases}"
   ]
  },
  {
   "cell_type": "code",
   "execution_count": 2,
   "metadata": {},
   "outputs": [],
   "source": [
    "N = 100 #Population total\n",
    "T=100 #Temps total\n",
    "#Conditions initiales\n",
    "I0, R0 = 0.4, 0.1\n",
    "S0 = N - I0 - R0\n",
    "#Variables \n",
    "beta=0.02 #Taux de contamination\n",
    "gamma = 0.1  #Taux de guérisson\n",
    "t=[i*T/N for i in range(N+1)]\n",
    "\n",
    "\n",
    "# The SIR model differential equations.\n",
    "def f(y,t):\n",
    "    S, I, R = y\n",
    "    dSdt = -beta * S * I \n",
    "    dIdt = beta * S * I  - gamma * I\n",
    "    dRdt = gamma * I\n",
    "    return dSdt, dIdt, dRdt"
   ]
  },
  {
   "cell_type": "markdown",
   "metadata": {},
   "source": [
    "Nous avons initialisé notre fonction f. \n",
    "Cette fonction résout le système d'équations différentiels du modèle SIR. "
   ]
  },
  {
   "cell_type": "code",
   "execution_count": 3,
   "metadata": {},
   "outputs": [
    {
     "data": {
      "image/png": "[encoded data removed]",
      "text/plain": [
       "<Figure size 432x288 with 1 Axes>"
      ]
     },
     "metadata": {
      "needs_background": "light"
     },
     "output_type": "display_data"
    }
   ],
   "source": [
    "y0 = [S0, I0, R0]\n",
    "sol=scipy.integrate.odeint(f,y0,t)\n",
    "\n",
    "plt.plot(t,sol)\n",
    "plt.xlabel('Time /days')\n",
    "plt.ylabel('Number (1000)')\n",
    "plt.grid()\n",
    "plt.legend(['S(t)','I(t)','R(t)'])\n",
    "plt.title('Modèle SIR beta={} gamma={}'.format(beta,gamma))\n",
    "plt.show()\n",
    "pc =fsolve(f,y0,t)"
   ]
  },
  {
   "cell_type": "markdown",
   "metadata": {},
   "source": [
    "Sur le graphique, nous pouvons observer que l'infection se propagera à l'entièreté de la population puis disparaitra."
   ]
  },
  {
   "cell_type": "markdown",
   "metadata": {},
   "source": [
    "On sais que la matrice Jacobienne est sous la forme comme:\n",
    "\n",
    "$$J_f(\\bar{u})=\\begin{pmatrix}\n",
    "\\frac{\\partial f_1}{\\partial S}(\\bar{S},\\bar{I},\\bar{R}) & \\frac{\\partial f_1}{\\partial I}(\\bar{S},\\bar{I},\\bar{R}) &\\frac{\\partial f_1}{\\partial R}(\\bar{S},\\bar{I},\\bar{R})\\\\ \n",
    "\\frac{\\partial f_2}{\\partial S}(\\bar{S},\\bar{I},\\bar{R}) & \\frac{\\partial f_2}{\\partial I}(\\bar{S},\\bar{I},\\bar{R}) &\\frac{\\partial f_2}{\\partial R}(\\bar{S},\\bar{I},\\bar{R})\\\\ \n",
    "\\frac{\\partial f_3}{\\partial S}(\\bar{S},\\bar{I},\\bar{R}) &\\frac{\\partial f_3}{\\partial I}(\\bar{S},\\bar{I},\\bar{R}) &\\frac{\\partial f_3}{\\partial R}(\\bar{S},\\bar{I},\\bar{R})\\\\ \n",
    "\\end{pmatrix}$$"
   ]
  },
  {
   "cell_type": "markdown",
   "metadata": {},
   "source": [
    "Voici la matrice Jacobienne que nous obtenons."
   ]
  },
  {
   "cell_type": "markdown",
   "metadata": {},
   "source": [
    "$$=\\begin{pmatrix}\n",
    "-\\beta \\bar{I} & -\\beta \\bar{S} & 0\\\\ \n",
    "\\beta \\bar{I} & \\beta \\bar{S}-\\gamma & 0\\\\ \n",
    "0 & \\gamma & 0\\\\\n",
    "\\end{pmatrix}$$"
   ]
  },
  {
   "cell_type": "markdown",
   "metadata": {
    "collapsed": true
   },
   "source": [
    "Le premier cas :$$\\bar{S}=1.0\\quad\\bar{I}=0.0\\quad\\bar{R}=0.0$$\n",
    "(Il n'y a pas de personne infectée)"
   ]
  },
  {
   "cell_type": "code",
   "execution_count": 4,
   "metadata": {},
   "outputs": [
    {
     "name": "stdout",
     "output_type": "stream",
     "text": [
      "S,I,R = [1. 0. 0.]\n"
     ]
    }
   ],
   "source": [
    "y0=[1,0,0]\n",
    "sol_valeur=fsolve(f,y0,t)\n",
    "print('S,I,R =',sol_valeur)"
   ]
  },
  {
   "cell_type": "code",
   "execution_count": 5,
   "metadata": {},
   "outputs": [
    {
     "name": "stdout",
     "output_type": "stream",
     "text": [
      "<class 'tuple'>\n",
      "Les valeurs propres de la matrice Jacobienne sont \n",
      " [ 0.    0.   -0.08]\n"
     ]
    }
   ],
   "source": [
    "Jf=[[0,-beta,0],[0,beta-gamma,0],[0,gamma,0]]\n",
    "Jf=np.array(Jf)\n",
    "S=np.linalg.eig(Jf)\n",
    "print(type(S))\n",
    "print('Les valeurs propres de la matrice Jacobienne sont \\n',S[0])"
   ]
  },
  {
   "cell_type": "markdown",
   "metadata": {},
   "source": [
    "Les valeurs propres de la matrice Jacobienne sont toutes négatives, donc la fonction est stable."
   ]
  },
  {
   "cell_type": "markdown",
   "metadata": {
    "collapsed": true
   },
   "source": [
    "Le deuxième cas :$$\\bar{S}=0.0\\quad\\bar{I}=1.0\\quad \\bar{R}=0.0$$"
   ]
  },
  {
   "cell_type": "code",
   "execution_count": 6,
   "metadata": {},
   "outputs": [
    {
     "name": "stdout",
     "output_type": "stream",
     "text": [
      "S,I,R= [2.43515636e-39 1.44890865e-70 0.00000000e+00]\n"
     ]
    }
   ],
   "source": [
    "y0=[0.0,1.0,0.0]\n",
    "sol_valeur=fsolve(f,y0, t)\n",
    "print('S,I,R=',sol_valeur)"
   ]
  },
  {
   "cell_type": "markdown",
   "metadata": {},
   "source": [
    "$$J_f=\\begin{pmatrix}\n",
    "0 & 0  & 0\\\\ \n",
    "0 & -\\gamma  & 0\\\\ \n",
    "0 & \\gamma & 0\n",
    "\\end{pmatrix}$$"
   ]
  },
  {
   "cell_type": "code",
   "execution_count": 7,
   "metadata": {},
   "outputs": [
    {
     "name": "stdout",
     "output_type": "stream",
     "text": [
      "<class 'tuple'>\n",
      "Les valeurs propres de la matrice Jacobienne sont \n",
      " [ 0.   0.  -0.1]\n"
     ]
    }
   ],
   "source": [
    "Jf=[[0,0,0],[0,-gamma,0],[0,gamma,0]]\n",
    "Jf=np.array(Jf)\n",
    "S=np.linalg.eig(Jf)\n",
    "print(type(S))\n",
    "print('Les valeurs propres de la matrice Jacobienne sont \\n',S[0])"
   ]
  },
  {
   "cell_type": "markdown",
   "metadata": {},
   "source": [
    "Les valeurs propres de la matrice Jacobienne sont toutes négatives, donc la fonction est stable."
   ]
  },
  {
   "cell_type": "markdown",
   "metadata": {},
   "source": [
    "Le troisième cas :$$\\bar{S}=0.5\\quad\\bar{I}=0.5\\quad\\bar{R}=0.0 \n",
    "$$"
   ]
  },
  {
   "cell_type": "code",
   "execution_count": 8,
   "metadata": {},
   "outputs": [
    {
     "name": "stdout",
     "output_type": "stream",
     "text": [
      "S,I,R = [5.98500667e+00 1.95951849e-19 2.92314741e+01]\n"
     ]
    }
   ],
   "source": [
    "y0=[0.5,0.5,0.0]\n",
    "sol_valeur=fsolve(f,y0,t)\n",
    "print('S,I,R =',sol_valeur)"
   ]
  },
  {
   "cell_type": "markdown",
   "metadata": {},
   "source": [
    "$$J_f=\\begin{pmatrix}\n",
    "0 & -0.5\\beta  & 0\\\\ \n",
    "0 & 0.5\\beta -\\gamma  & 0\\\\ \n",
    "0 & \\gamma & 0\n",
    "\\end{pmatrix}$$"
   ]
  },
  {
   "cell_type": "code",
   "execution_count": 9,
   "metadata": {},
   "outputs": [
    {
     "name": "stdout",
     "output_type": "stream",
     "text": [
      "<class 'tuple'>\n",
      "Les valeurs propres de la matrice Jacobienne sont \n",
      " [ 0.    0.   -0.09]\n"
     ]
    }
   ],
   "source": [
    "Jf=[[0,-0.5*beta,0],[0,0.5*beta-gamma,0],[0,gamma,0]]\n",
    "Jf=np.array(Jf)\n",
    "S=np.linalg.eig(Jf)\n",
    "print(type(S))\n",
    "print('Les valeurs propres de la matrice Jacobienne sont \\n',S[0])"
   ]
  },
  {
   "cell_type": "markdown",
   "metadata": {},
   "source": [
    "Les valeurs propres de la matrice Jacobienne sont toutes négatives, donc la fonction est stable."
   ]
  },
  {
   "cell_type": "code",
   "execution_count": null,
   "metadata": {},
   "outputs": [],
   "source": []
  }
 ],
 "metadata": {
  "kernelspec": {
   "display_name": "Python 3",
   "language": "python",
   "name": "python3"
  },
  "language_info": {
   "codemirror_mode": {
    "name": "ipython",
    "version": 3
   },
   "file_extension": ".py",
   "mimetype": "text/x-python",
   "name": "python",
   "nbconvert_exporter": "python",
   "pygments_lexer": "ipython3",
   "version": "3.6.13"
  }
 },
 "nbformat": 4,
 "nbformat_minor": 2
}
