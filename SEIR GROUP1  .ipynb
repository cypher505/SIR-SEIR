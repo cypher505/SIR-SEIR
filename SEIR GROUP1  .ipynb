{
 "cells": [
  {
   "cell_type": "markdown",
   "metadata": {},
   "source": [
    "# Welcome to Jupyter!"
   ]
  },
  {
   "cell_type": "markdown",
   "metadata": {},
   "source": [
    "Modèle SEIR\n"
   ]
  },
  {
   "cell_type": "code",
   "execution_count": 31,
   "metadata": {},
   "outputs": [],
   "source": [
    "import numpy as np\n",
    "import math\n",
    "from scipy.integrate import odeint\n",
    "import matplotlib.pyplot as plt\n",
    "%matplotlib inline\n",
    "import scipy        # donne acces aux librairies scipy, scipy.linalg et scipy.integrate\n",
    "import scipy.integrate\n",
    "from scipy.optimize import fsolve\n"
   ]
  },
  {
   "cell_type": "markdown",
   "metadata": {},
   "source": [
    "\\begin{cases}\n",
    "\\displaystyle\n",
    "\\frac{dS(t)}{dt} &=& -\\beta S(t)I(t)\\\\\n",
    "\\displaystyle\n",
    "{\\color{blue}{\\frac{dE(t)}{dt}}} &=& \\beta S(t)I(t){\\color{blue}{-\\alpha E(t)}}\\\\\n",
    "\\displaystyle\n",
    "\\frac{dI(t)}{dt} &=& {\\color{blue}{\\alpha E(t)}}-\\gamma I(t)\\\\\n",
    "\\displaystyle\n",
    "\\frac{dR(t)}{dt} &=& \\gamma I(t)\n",
    "\\end{cases}"
   ]
  },
  {
   "cell_type": "code",
   "execution_count": 32,
   "metadata": {},
   "outputs": [],
   "source": [
    "N =1 #Population total\n",
    "T=100 #Temps total\n",
    "#Conditions initiales\n",
    "I0, E0 ,R0= 0.6,0.1, 0.1\n",
    "S0 = N - I0 - R0 -E0\n",
    "P=100 \n",
    "#Variables \n",
    "beta=0.2 #Taux de transmission\n",
    "alpha=0.3 #Taux de contamination \n",
    "gamma = 0.4  #Taux de guérisson\n",
    "\n",
    "t=[i*T/P for i in range(P+1)]\n",
    "\n",
    "\n",
    "# The SIR model differential equations.\n",
    "def f(y,t):\n",
    "    S, E, I, R, = y\n",
    "    N = S + E + I + R\n",
    "    dSdt = -beta*S*I\n",
    "    dEdt = beta*S*I - alpha*E\n",
    "    dIdt = alpha*E - gamma*I \n",
    "    dRdt = gamma*I \n",
    "    return [dSdt, dEdt, dIdt, dRdt]"
   ]
  },
  {
   "cell_type": "markdown",
   "metadata": {},
   "source": [
    "Nous avons initialisé notre fonction f. \n",
    "Cette fonction résout le système d'équations différentiels du modèle SEIR. "
   ]
  },
  {
   "cell_type": "code",
   "execution_count": 33,
   "metadata": {},
   "outputs": [
    {
     "data": {
      "image/png": "[encoded data removed]",
      "text/plain": [
       "<Figure size 432x288 with 1 Axes>"
      ]
     },
     "metadata": {
      "needs_background": "light"
     },
     "output_type": "display_data"
    }
   ],
   "source": [
    "y0 = [S0,E0, I0, R0]\n",
    "sol=scipy.integrate.odeint(f,y0,t)\n",
    "\n",
    "plt.plot(t,sol)\n",
    "plt.xlabel('Time /days')\n",
    "plt.ylabel('Number (1000s)')\n",
    "plt.grid()\n",
    "plt.title('Modèle SEIR alpha={} beta={} gamma={}'.format(alpha,beta,gamma))\n",
    "plt.legend(['S(t)','E(t)','I(t)','R(t)'])\n",
    "plt.show()\n"
   ]
  },
  {
   "cell_type": "markdown",
   "metadata": {},
   "source": [
    "Sur le graphique, nous pouvons observer que toute une partie de la population ne va pas être infecter pendant l'épidémie. "
   ]
  },
  {
   "cell_type": "markdown",
   "metadata": {},
   "source": [
    "On sais que la matrice Jacobienne est sous la forme comme:\n",
    "\n",
    "$$J_f(\\bar{u})=\\begin{pmatrix}\n",
    "\\frac{\\partial f_1}{\\partial S}(\\bar{S},\\bar{E},\\bar{I},\\bar{R}) & \\frac{\\partial f_1}{\\partial E}(\\bar{S},\\bar{E},\\bar{I},\\bar{R}) &\\frac{\\partial f_1}{\\partial I}(\\bar{S},\\bar{E},\\bar{I},\\bar{R}) &\\frac{\\partial f_1}{\\partial R}(\\bar{S},\\bar{E},\\bar{I},\\bar{R})\\\\ \n",
    "\\frac{\\partial f_2}{\\partial S}(\\bar{S},\\bar{E},\\bar{I},\\bar{R}) & \\frac{\\partial f_2}{\\partial E}(\\bar{S},\\bar{E},\\bar{I},\\bar{R}) &\\frac{\\partial f_2}{\\partial I}(\\bar{S},\\bar{E},\\bar{I},\\bar{R}) &\\frac{\\partial f_2}{\\partial R}(\\bar{S},\\bar{E},\\bar{I},\\bar{R})\\\\ \n",
    "\\frac{\\partial f_3}{\\partial S}(\\bar{S},\\bar{E},\\bar{I},\\bar{R}) & \\frac{\\partial f_3}{\\partial E}(\\bar{S},\\bar{E},\\bar{I},\\bar{R}) &\\frac{\\partial f_3}{\\partial I}(\\bar{S},\\bar{E},\\bar{I},\\bar{R}) &\\frac{\\partial f_3}{\\partial R}(\\bar{S},\\bar{E},\\bar{I},\\bar{R})\\\\ \n",
    "\\frac{\\partial f_4}{\\partial S}(\\bar{S},\\bar{E},\\bar{I},\\bar{R}) & \\frac{\\partial f_4}{\\partial E}(\\bar{S},\\bar{E},\\bar{I},\\bar{R}) &\\frac{\\partial f_4}{\\partial I}(\\bar{S},\\bar{E},\\bar{I},\\bar{R}) &\\frac{\\partial f_4}{\\partial R}(\\bar{S},\\bar{E},\\bar{I},\\bar{R})\\\\ \n",
    "\\end{pmatrix}$$"
   ]
  },
  {
   "cell_type": "markdown",
   "metadata": {},
   "source": [
    "Voici la matrice Jacobienne que nous obtenons."
   ]
  },
  {
   "cell_type": "markdown",
   "metadata": {
    "collapsed": true
   },
   "source": [
    "$$=\\begin{pmatrix}\n",
    "-\\beta \\bar{I} & 0 & -\\beta \\bar{S} & 0\\\\ \n",
    "\\beta \\bar{I} & -\\alpha  & \\beta \\bar{S} & 0\\\\ \n",
    "0 & \\alpha & -\\gamma & 0\\\\\n",
    "0 & 0 & \\gamma & 0\\\\\n",
    "\\end{pmatrix}$$"
   ]
  },
  {
   "cell_type": "markdown",
   "metadata": {},
   "source": [
    "Le premier cas :$$\\bar{S}=1.0\\quad\\bar{E}=0.0\\quad\\bar{I}=0.0\\quad \\bar{R}=0.0$$\n",
    "(Il n'y a pas de personne infectée)"
   ]
  },
  {
   "cell_type": "code",
   "execution_count": 34,
   "metadata": {},
   "outputs": [
    {
     "name": "stdout",
     "output_type": "stream",
     "text": [
      "S,E,I,R = [1. 0. 0. 0.]\n"
     ]
    }
   ],
   "source": [
    "y0=[1,0,0,0]\n",
    "sol_valeur=fsolve(f,y0,t)\n",
    "print('S,E,I,R =',sol_valeur)\n"
   ]
  },
  {
   "cell_type": "code",
   "execution_count": 35,
   "metadata": {},
   "outputs": [
    {
     "name": "stdout",
     "output_type": "stream",
     "text": [
      "<class 'tuple'>\n",
      "Les valeurs propres de la matrice Jacobienne sont \n",
      " [ 0.   0.  -0.6 -0.1]\n"
     ]
    }
   ],
   "source": [
    "Jf=[[0,0,-beta,0],[0,-alpha,beta,0],[0,alpha,-gamma,0],[0,0,gamma,0]]\n",
    "Jf=np.array(Jf)\n",
    "S=np.linalg.eig(Jf)\n",
    "print(type(S))\n",
    "print('Les valeurs propres de la matrice Jacobienne sont \\n',S[0])"
   ]
  },
  {
   "cell_type": "markdown",
   "metadata": {},
   "source": [
    "Les valeurs propres de la matrice Jacobienne sont toutes négatives, donc la fonction est stable."
   ]
  },
  {
   "cell_type": "markdown",
   "metadata": {},
   "source": [
    "Le deuxième cas :$$\\bar{S}=0.2\\quad\\bar{E}=0.4\\quad\\bar{I}=0.4\\quad \\bar{R}=0.0$$"
   ]
  },
  {
   "cell_type": "code",
   "execution_count": 36,
   "metadata": {},
   "outputs": [
    {
     "name": "stdout",
     "output_type": "stream",
     "text": [
      "S,E,I,R = [ 9.13838632e-01  1.89627743e-19 -1.58044831e-25 -3.70689118e+01]\n"
     ]
    }
   ],
   "source": [
    "y0=[0.2,0.4,0.4,0.0]\n",
    "sol_valeur=fsolve(f,y0,t)\n",
    "print('S,E,I,R =',sol_valeur)"
   ]
  },
  {
   "cell_type": "code",
   "execution_count": 37,
   "metadata": {},
   "outputs": [
    {
     "name": "stdout",
     "output_type": "stream",
     "text": [
      "<class 'tuple'>\n",
      "Les valeurs propres de la matrice Jacobienne sont \n",
      " [ 0.   0.  -0.4 -0.3]\n"
     ]
    }
   ],
   "source": [
    "Jf=[[0,0,0,0],[0,-alpha,0,0],[0,alpha,-gamma,0],[0,0,gamma,0]]\n",
    "Jf=np.array(Jf)\n",
    "S=np.linalg.eig(Jf)\n",
    "print(type(S))\n",
    "print('Les valeurs propres de la matrice Jacobienne sont \\n',S[0])"
   ]
  },
  {
   "cell_type": "markdown",
   "metadata": {},
   "source": [
    "Les valeurs propres de la matrice Jacobienne sont toutes négatives, donc la fonction est stable.\n"
   ]
  },
  {
   "cell_type": "code",
   "execution_count": null,
   "metadata": {},
   "outputs": [],
   "source": []
  }
 ],
 "metadata": {
  "kernelspec": {
   "display_name": "Python 3",
   "language": "python",
   "name": "python3"
  },
  "language_info": {
   "codemirror_mode": {
    "name": "ipython",
    "version": 3
   },
   "file_extension": ".py",
   "mimetype": "text/x-python",
   "name": "python",
   "nbconvert_exporter": "python",
   "pygments_lexer": "ipython3",
   "version": "3.6.13"
  }
 },
 "nbformat": 4,
 "nbformat_minor": 2
}
